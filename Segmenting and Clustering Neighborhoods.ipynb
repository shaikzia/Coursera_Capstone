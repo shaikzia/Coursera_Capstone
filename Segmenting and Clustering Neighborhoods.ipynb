{
    "nbformat_minor": 1, 
    "cells": [
        {
            "source": "### Import the necessary libraries", 
            "cell_type": "markdown", 
            "metadata": {
                "collapsed": true
            }
        }, 
        {
            "execution_count": 173, 
            "cell_type": "code", 
            "metadata": {}, 
            "outputs": [], 
            "source": "import requests \nimport pandas as pd \nimport numpy as np\nfrom bs4 import BeautifulSoup"
        }, 
        {
            "source": "### Scrap the URL and get the table data ", 
            "cell_type": "markdown", 
            "metadata": {}
        }, 
        {
            "execution_count": 174, 
            "cell_type": "code", 
            "metadata": {}, 
            "outputs": [
                {
                    "output_type": "stream", 
                    "name": "stdout", 
                    "text": "[('M1A', 'Not assigned', 'Not assigned'), ('M2A', 'Not assigned', 'Not assigned'), ('M3A', 'North York', 'Parkwoods')]\n"
                }
            ], 
            "source": "URL = \"https://en.wikipedia.org/wiki/List_of_postal_codes_of_Canada:_M\"\nres = requests.get(URL).text\nsoup = BeautifulSoup(res,'lxml')\ndf_list = []\nfor items in soup.find('table', class_= 'wikitable sortable').find_all('tr')[1::]:\n    data = items.find_all(['td'])\n    try:\n        postcode = data[0].get_text()       \n        borough = data[1].get_text()\n        neighbourhood = data[2].get_text().rstrip('\\n')\n    except IndexError:pass\n    df_list.append((postcode,borough,neighbourhood))\n\nprint(df_list[0:3])"
        }, 
        {
            "source": "### Convert the above list data into PANDAS DataFrame", 
            "cell_type": "markdown", 
            "metadata": {}
        }, 
        {
            "execution_count": 175, 
            "cell_type": "code", 
            "metadata": {}, 
            "outputs": [], 
            "source": "df_data = pd.DataFrame(df_list, columns=['Postalcode', 'Borough', 'Neighbourhood'])"
        }, 
        {
            "execution_count": 176, 
            "cell_type": "code", 
            "metadata": {}, 
            "outputs": [
                {
                    "execution_count": 176, 
                    "metadata": {}, 
                    "data": {
                        "text/html": "<div>\n<style scoped>\n    .dataframe tbody tr th:only-of-type {\n        vertical-align: middle;\n    }\n\n    .dataframe tbody tr th {\n        vertical-align: top;\n    }\n\n    .dataframe thead th {\n        text-align: right;\n    }\n</style>\n<table border=\"1\" class=\"dataframe\">\n  <thead>\n    <tr style=\"text-align: right;\">\n      <th></th>\n      <th>Postalcode</th>\n      <th>Borough</th>\n      <th>Neighbourhood</th>\n    </tr>\n  </thead>\n  <tbody>\n    <tr>\n      <th>0</th>\n      <td>M1A</td>\n      <td>Not assigned</td>\n      <td>Not assigned</td>\n    </tr>\n    <tr>\n      <th>1</th>\n      <td>M2A</td>\n      <td>Not assigned</td>\n      <td>Not assigned</td>\n    </tr>\n    <tr>\n      <th>2</th>\n      <td>M3A</td>\n      <td>North York</td>\n      <td>Parkwoods</td>\n    </tr>\n    <tr>\n      <th>3</th>\n      <td>M4A</td>\n      <td>North York</td>\n      <td>Victoria Village</td>\n    </tr>\n    <tr>\n      <th>4</th>\n      <td>M5A</td>\n      <td>Downtown Toronto</td>\n      <td>Harbourfront</td>\n    </tr>\n  </tbody>\n</table>\n</div>", 
                        "text/plain": "  Postalcode           Borough     Neighbourhood\n0        M1A      Not assigned      Not assigned\n1        M2A      Not assigned      Not assigned\n2        M3A        North York         Parkwoods\n3        M4A        North York  Victoria Village\n4        M5A  Downtown Toronto      Harbourfront"
                    }, 
                    "output_type": "execute_result"
                }
            ], 
            "source": "df_data.head()"
        }, 
        {
            "source": "### Check the shape of the DataFrame", 
            "cell_type": "markdown", 
            "metadata": {}
        }, 
        {
            "execution_count": 177, 
            "cell_type": "code", 
            "metadata": {}, 
            "outputs": [
                {
                    "execution_count": 177, 
                    "metadata": {}, 
                    "data": {
                        "text/plain": "(289, 3)"
                    }, 
                    "output_type": "execute_result"
                }
            ], 
            "source": "df_data.shape"
        }, 
        {
            "source": "### Get the count of Column Borough = Not assigned", 
            "cell_type": "markdown", 
            "metadata": {}
        }, 
        {
            "execution_count": 178, 
            "cell_type": "code", 
            "metadata": {}, 
            "outputs": [
                {
                    "execution_count": 178, 
                    "metadata": {}, 
                    "data": {
                        "text/plain": "77"
                    }, 
                    "output_type": "execute_result"
                }
            ], 
            "source": "df_data['Borough'].eq('Not assigned').sum()"
        }, 
        {
            "source": "### Get the count of Column Neighbourhood = Not assigned", 
            "cell_type": "markdown", 
            "metadata": {}
        }, 
        {
            "execution_count": 179, 
            "cell_type": "code", 
            "metadata": {}, 
            "outputs": [
                {
                    "execution_count": 179, 
                    "metadata": {}, 
                    "data": {
                        "text/plain": "78"
                    }, 
                    "output_type": "execute_result"
                }
            ], 
            "source": "df_data['Neighbourhood'].eq('Not assigned').sum()"
        }, 
        {
            "source": "### Remove the rows where Borough = Not assigned ", 
            "cell_type": "markdown", 
            "metadata": {}
        }, 
        {
            "execution_count": 180, 
            "cell_type": "code", 
            "metadata": {}, 
            "outputs": [], 
            "source": "df_data = df_data[df_data.Borough != 'Not assigned']"
        }, 
        {
            "source": "### Shape of the DataFrame after removing rows, where Borough column equal to Not assigned values", 
            "cell_type": "markdown", 
            "metadata": {}
        }, 
        {
            "execution_count": 181, 
            "cell_type": "code", 
            "metadata": {}, 
            "outputs": [
                {
                    "execution_count": 181, 
                    "metadata": {}, 
                    "data": {
                        "text/plain": "(212, 3)"
                    }, 
                    "output_type": "execute_result"
                }
            ], 
            "source": "df_data.shape"
        }, 
        {
            "source": "### Get the rows where Neighbourhood is equal to Not assigned values", 
            "cell_type": "markdown", 
            "metadata": {}
        }, 
        {
            "execution_count": 182, 
            "cell_type": "code", 
            "metadata": {}, 
            "outputs": [
                {
                    "execution_count": 182, 
                    "metadata": {}, 
                    "data": {
                        "text/plain": "1"
                    }, 
                    "output_type": "execute_result"
                }
            ], 
            "source": "df_data['Neighbourhood'].eq('Not assigned').sum()"
        }, 
        {
            "execution_count": 183, 
            "cell_type": "code", 
            "metadata": {}, 
            "outputs": [
                {
                    "execution_count": 183, 
                    "metadata": {}, 
                    "data": {
                        "text/html": "<div>\n<style scoped>\n    .dataframe tbody tr th:only-of-type {\n        vertical-align: middle;\n    }\n\n    .dataframe tbody tr th {\n        vertical-align: top;\n    }\n\n    .dataframe thead th {\n        text-align: right;\n    }\n</style>\n<table border=\"1\" class=\"dataframe\">\n  <thead>\n    <tr style=\"text-align: right;\">\n      <th></th>\n      <th>Postalcode</th>\n      <th>Borough</th>\n      <th>Neighbourhood</th>\n    </tr>\n  </thead>\n  <tbody>\n    <tr>\n      <th>8</th>\n      <td>M7A</td>\n      <td>Queen's Park</td>\n      <td>Not assigned</td>\n    </tr>\n  </tbody>\n</table>\n</div>", 
                        "text/plain": "  Postalcode       Borough Neighbourhood\n8        M7A  Queen's Park  Not assigned"
                    }, 
                    "output_type": "execute_result"
                }
            ], 
            "source": "df_data.loc[df_data['Neighbourhood'] == 'Not assigned']"
        }, 
        {
            "source": "### Copy the value of Borough column to the Neighbourhood column, if Neighbourhood == Not assigned ", 
            "cell_type": "markdown", 
            "metadata": {}
        }, 
        {
            "execution_count": 184, 
            "cell_type": "code", 
            "metadata": {}, 
            "outputs": [], 
            "source": "df_data['Neighbourhood'] = np.where(df_data['Neighbourhood'] == 'Not assigned', df_data['Borough'], df_data['Borough'])"
        }, 
        {
            "execution_count": 185, 
            "cell_type": "code", 
            "metadata": {}, 
            "outputs": [
                {
                    "execution_count": 185, 
                    "metadata": {}, 
                    "data": {
                        "text/plain": "0"
                    }, 
                    "output_type": "execute_result"
                }
            ], 
            "source": "df_data['Neighbourhood'].eq('Not assigned').sum()"
        }, 
        {
            "source": "### Merge the Neighbourhoods for the same Postal Code ", 
            "cell_type": "markdown", 
            "metadata": {}
        }, 
        {
            "execution_count": 186, 
            "cell_type": "code", 
            "metadata": {}, 
            "outputs": [], 
            "source": "df_data = df_data.groupby(['Postalcode', 'Borough'])['Neighbourhood'].apply(', '.join).reset_index()"
        }, 
        {
            "source": "## Final Shape of the Notebook", 
            "cell_type": "markdown", 
            "metadata": {}
        }, 
        {
            "execution_count": 188, 
            "cell_type": "code", 
            "metadata": {}, 
            "outputs": [
                {
                    "execution_count": 188, 
                    "metadata": {}, 
                    "data": {
                        "text/plain": "(103, 3)"
                    }, 
                    "output_type": "execute_result"
                }
            ], 
            "source": "df_data.shape"
        }, 
        {
            "execution_count": null, 
            "cell_type": "code", 
            "metadata": {}, 
            "outputs": [], 
            "source": ""
        }
    ], 
    "metadata": {
        "kernelspec": {
            "display_name": "Python 3.5", 
            "name": "python3", 
            "language": "python"
        }, 
        "language_info": {
            "mimetype": "text/x-python", 
            "nbconvert_exporter": "python", 
            "version": "3.5.5", 
            "name": "python", 
            "file_extension": ".py", 
            "pygments_lexer": "ipython3", 
            "codemirror_mode": {
                "version": 3, 
                "name": "ipython"
            }
        }
    }, 
    "nbformat": 4
}